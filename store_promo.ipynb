{
  "nbformat": 4,
  "nbformat_minor": 0,
  "metadata": {
    "colab": {
      "provenance": []
    },
    "kernelspec": {
      "name": "python3",
      "display_name": "Python 3"
    },
    "language_info": {
      "name": "python"
    }
  },
  "cells": [
    {
      "cell_type": "code",
      "execution_count": 119,
      "metadata": {
        "colab": {
          "base_uri": "https://localhost:8080/"
        },
        "id": "SdGBjb10tDQP",
        "outputId": "b1e56bea-2c1a-47f6-ab54-276d5b63def2"
      },
      "outputs": [
        {
          "output_type": "stream",
          "name": "stdout",
          "text": [
            "austr.jpg\t  combined_data.csv  House_Rent_Dataset.csv  weatherAUS.csv\n",
            "chatbot_logs.csv  datasets\t     second_austr.jpg\n",
            "Drive already mounted at /content/drive; to attempt to forcibly remount, call drive.mount(\"/content/drive\", force_remount=True).\n"
          ]
        }
      ],
      "source": [
        "!ls /content/drive/MyDrive/datasets/\n",
        "\n",
        "# Імпортуємо необхідні бібліотеки\n",
        "import pandas as pd\n",
        "import numpy as np\n",
        "import matplotlib.pyplot as plt\n",
        "import seaborn as sns\n",
        "from sklearn.model_selection import train_test_split\n",
        "from sklearn.linear_model import LinearRegression\n",
        "from xgboost import XGBRegressor\n",
        "from sklearn.metrics import r2_score, mean_absolute_error\n",
        "from google.colab import drive\n",
        "drive.mount('/content/drive')\n",
        "\n",
        "\n"
      ]
    },
    {
      "cell_type": "code",
      "source": [
        "# Завантажуємо датасет\n",
        "df_camp = pd.read_csv('/content/drive/MyDrive/datasets/datasets/dim_campaigns.csv')\n",
        "df_prod = pd.read_csv('/content/drive/MyDrive/datasets/datasets/dim_products.csv')\n",
        "df_stores = pd.read_csv('/content/drive/MyDrive/datasets/datasets/dim_stores.csv')\n",
        "df_events = pd.read_csv('/content/drive/MyDrive/datasets/datasets/fact_events.csv')\n"
      ],
      "metadata": {
        "id": "ah2nyqP_0u7a"
      },
      "execution_count": 120,
      "outputs": []
    },
    {
      "cell_type": "code",
      "source": [
        "print(df_camp.head(5))\n",
        "print(df_prod.head(5))\n",
        "print(df_stores.head(5))\n",
        "print(df_events.head(5))"
      ],
      "metadata": {
        "colab": {
          "base_uri": "https://localhost:8080/"
        },
        "id": "KLwGYp2xu0kr",
        "outputId": "45b330ca-586b-421a-83a6-2fc5dae1ae97"
      },
      "execution_count": 121,
      "outputs": [
        {
          "output_type": "stream",
          "name": "stdout",
          "text": [
            "   campaign_id campaign_name  start_date    end_date\n",
            "0  CAMP_DIW_01        Diwali  12-11-2023  18-11-2023\n",
            "1  CAMP_SAN_01     Sankranti  10-01-2024  16-01-2024\n",
            "  product_code                     product_name           category\n",
            "0          P01           Atliq_Masoor_Dal (1KG)  Grocery & Staples\n",
            "1          P02     Atliq_Sonamasuri_Rice (10KG)  Grocery & Staples\n",
            "2          P03          Atliq_Suflower_Oil (1L)  Grocery & Staples\n",
            "3          P04     Atliq_Farm_Chakki_Atta (1KG)  Grocery & Staples\n",
            "4          P05  Atliq_Scrub_Sponge_For_Dishwash          Home Care\n",
            "  store_id           city\n",
            "0  STTRV-0     Trivandrum\n",
            "1  STMDU-3        Madurai\n",
            "2  STHYD-6      Hyderabad\n",
            "3  STVSK-1  Visakhapatnam\n",
            "4  STCBE-3     Coimbatore\n",
            "  event_id store_id  campaign_id product_code  base_price(before_promo)  \\\n",
            "0   8481be  STCHE-1  CAMP_DIW_01          P04                       290   \n",
            "1   20618e  STCHE-3  CAMP_SAN_01          P04                       370   \n",
            "2   f30579  STBLR-9  CAMP_DIW_01          P02                       860   \n",
            "3   4f570c  STBLR-7  CAMP_DIW_01          P05                        55   \n",
            "4   6d153f  STHYD-5  CAMP_SAN_01          P15                      3000   \n",
            "\n",
            "   quantity_sold(before_promo)    promo_type  base_price(after_promo)  \\\n",
            "0                        327.0       25% OFF                      217   \n",
            "1                        379.0         BOGOF                      185   \n",
            "2                        337.0       33% OFF                      576   \n",
            "3                        122.0       25% OFF                       41   \n",
            "4                        122.0  500 Cashback                     2500   \n",
            "\n",
            "   quantity_sold(after_promo)  \n",
            "0                         287  \n",
            "1                        1622  \n",
            "2                         488  \n",
            "3                         107  \n",
            "4                         272  \n"
          ]
        }
      ]
    },
    {
      "cell_type": "code",
      "source": [
        "df_events.head(5)"
      ],
      "metadata": {
        "colab": {
          "base_uri": "https://localhost:8080/",
          "height": 243
        },
        "id": "ZgwznzyQz0Gz",
        "outputId": "1e679f25-7f2b-45c7-b427-406aa85d010d"
      },
      "execution_count": 122,
      "outputs": [
        {
          "output_type": "execute_result",
          "data": {
            "text/plain": [
              "  event_id store_id  campaign_id product_code  base_price(before_promo)  \\\n",
              "0   8481be  STCHE-1  CAMP_DIW_01          P04                       290   \n",
              "1   20618e  STCHE-3  CAMP_SAN_01          P04                       370   \n",
              "2   f30579  STBLR-9  CAMP_DIW_01          P02                       860   \n",
              "3   4f570c  STBLR-7  CAMP_DIW_01          P05                        55   \n",
              "4   6d153f  STHYD-5  CAMP_SAN_01          P15                      3000   \n",
              "\n",
              "   quantity_sold(before_promo)    promo_type  base_price(after_promo)  \\\n",
              "0                        327.0       25% OFF                      217   \n",
              "1                        379.0         BOGOF                      185   \n",
              "2                        337.0       33% OFF                      576   \n",
              "3                        122.0       25% OFF                       41   \n",
              "4                        122.0  500 Cashback                     2500   \n",
              "\n",
              "   quantity_sold(after_promo)  \n",
              "0                         287  \n",
              "1                        1622  \n",
              "2                         488  \n",
              "3                         107  \n",
              "4                         272  "
            ],
            "text/html": [
              "\n",
              "  <div id=\"df-194a8537-2ce8-4fb2-89c3-bc6e9391c431\" class=\"colab-df-container\">\n",
              "    <div>\n",
              "<style scoped>\n",
              "    .dataframe tbody tr th:only-of-type {\n",
              "        vertical-align: middle;\n",
              "    }\n",
              "\n",
              "    .dataframe tbody tr th {\n",
              "        vertical-align: top;\n",
              "    }\n",
              "\n",
              "    .dataframe thead th {\n",
              "        text-align: right;\n",
              "    }\n",
              "</style>\n",
              "<table border=\"1\" class=\"dataframe\">\n",
              "  <thead>\n",
              "    <tr style=\"text-align: right;\">\n",
              "      <th></th>\n",
              "      <th>event_id</th>\n",
              "      <th>store_id</th>\n",
              "      <th>campaign_id</th>\n",
              "      <th>product_code</th>\n",
              "      <th>base_price(before_promo)</th>\n",
              "      <th>quantity_sold(before_promo)</th>\n",
              "      <th>promo_type</th>\n",
              "      <th>base_price(after_promo)</th>\n",
              "      <th>quantity_sold(after_promo)</th>\n",
              "    </tr>\n",
              "  </thead>\n",
              "  <tbody>\n",
              "    <tr>\n",
              "      <th>0</th>\n",
              "      <td>8481be</td>\n",
              "      <td>STCHE-1</td>\n",
              "      <td>CAMP_DIW_01</td>\n",
              "      <td>P04</td>\n",
              "      <td>290</td>\n",
              "      <td>327.0</td>\n",
              "      <td>25% OFF</td>\n",
              "      <td>217</td>\n",
              "      <td>287</td>\n",
              "    </tr>\n",
              "    <tr>\n",
              "      <th>1</th>\n",
              "      <td>20618e</td>\n",
              "      <td>STCHE-3</td>\n",
              "      <td>CAMP_SAN_01</td>\n",
              "      <td>P04</td>\n",
              "      <td>370</td>\n",
              "      <td>379.0</td>\n",
              "      <td>BOGOF</td>\n",
              "      <td>185</td>\n",
              "      <td>1622</td>\n",
              "    </tr>\n",
              "    <tr>\n",
              "      <th>2</th>\n",
              "      <td>f30579</td>\n",
              "      <td>STBLR-9</td>\n",
              "      <td>CAMP_DIW_01</td>\n",
              "      <td>P02</td>\n",
              "      <td>860</td>\n",
              "      <td>337.0</td>\n",
              "      <td>33% OFF</td>\n",
              "      <td>576</td>\n",
              "      <td>488</td>\n",
              "    </tr>\n",
              "    <tr>\n",
              "      <th>3</th>\n",
              "      <td>4f570c</td>\n",
              "      <td>STBLR-7</td>\n",
              "      <td>CAMP_DIW_01</td>\n",
              "      <td>P05</td>\n",
              "      <td>55</td>\n",
              "      <td>122.0</td>\n",
              "      <td>25% OFF</td>\n",
              "      <td>41</td>\n",
              "      <td>107</td>\n",
              "    </tr>\n",
              "    <tr>\n",
              "      <th>4</th>\n",
              "      <td>6d153f</td>\n",
              "      <td>STHYD-5</td>\n",
              "      <td>CAMP_SAN_01</td>\n",
              "      <td>P15</td>\n",
              "      <td>3000</td>\n",
              "      <td>122.0</td>\n",
              "      <td>500 Cashback</td>\n",
              "      <td>2500</td>\n",
              "      <td>272</td>\n",
              "    </tr>\n",
              "  </tbody>\n",
              "</table>\n",
              "</div>\n",
              "    <div class=\"colab-df-buttons\">\n",
              "\n",
              "  <div class=\"colab-df-container\">\n",
              "    <button class=\"colab-df-convert\" onclick=\"convertToInteractive('df-194a8537-2ce8-4fb2-89c3-bc6e9391c431')\"\n",
              "            title=\"Convert this dataframe to an interactive table.\"\n",
              "            style=\"display:none;\">\n",
              "\n",
              "  <svg xmlns=\"http://www.w3.org/2000/svg\" height=\"24px\" viewBox=\"0 -960 960 960\">\n",
              "    <path d=\"M120-120v-720h720v720H120Zm60-500h600v-160H180v160Zm220 220h160v-160H400v160Zm0 220h160v-160H400v160ZM180-400h160v-160H180v160Zm440 0h160v-160H620v160ZM180-180h160v-160H180v160Zm440 0h160v-160H620v160Z\"/>\n",
              "  </svg>\n",
              "    </button>\n",
              "\n",
              "  <style>\n",
              "    .colab-df-container {\n",
              "      display:flex;\n",
              "      gap: 12px;\n",
              "    }\n",
              "\n",
              "    .colab-df-convert {\n",
              "      background-color: #E8F0FE;\n",
              "      border: none;\n",
              "      border-radius: 50%;\n",
              "      cursor: pointer;\n",
              "      display: none;\n",
              "      fill: #1967D2;\n",
              "      height: 32px;\n",
              "      padding: 0 0 0 0;\n",
              "      width: 32px;\n",
              "    }\n",
              "\n",
              "    .colab-df-convert:hover {\n",
              "      background-color: #E2EBFA;\n",
              "      box-shadow: 0px 1px 2px rgba(60, 64, 67, 0.3), 0px 1px 3px 1px rgba(60, 64, 67, 0.15);\n",
              "      fill: #174EA6;\n",
              "    }\n",
              "\n",
              "    .colab-df-buttons div {\n",
              "      margin-bottom: 4px;\n",
              "    }\n",
              "\n",
              "    [theme=dark] .colab-df-convert {\n",
              "      background-color: #3B4455;\n",
              "      fill: #D2E3FC;\n",
              "    }\n",
              "\n",
              "    [theme=dark] .colab-df-convert:hover {\n",
              "      background-color: #434B5C;\n",
              "      box-shadow: 0px 1px 3px 1px rgba(0, 0, 0, 0.15);\n",
              "      filter: drop-shadow(0px 1px 2px rgba(0, 0, 0, 0.3));\n",
              "      fill: #FFFFFF;\n",
              "    }\n",
              "  </style>\n",
              "\n",
              "    <script>\n",
              "      const buttonEl =\n",
              "        document.querySelector('#df-194a8537-2ce8-4fb2-89c3-bc6e9391c431 button.colab-df-convert');\n",
              "      buttonEl.style.display =\n",
              "        google.colab.kernel.accessAllowed ? 'block' : 'none';\n",
              "\n",
              "      async function convertToInteractive(key) {\n",
              "        const element = document.querySelector('#df-194a8537-2ce8-4fb2-89c3-bc6e9391c431');\n",
              "        const dataTable =\n",
              "          await google.colab.kernel.invokeFunction('convertToInteractive',\n",
              "                                                    [key], {});\n",
              "        if (!dataTable) return;\n",
              "\n",
              "        const docLinkHtml = 'Like what you see? Visit the ' +\n",
              "          '<a target=\"_blank\" href=https://colab.research.google.com/notebooks/data_table.ipynb>data table notebook</a>'\n",
              "          + ' to learn more about interactive tables.';\n",
              "        element.innerHTML = '';\n",
              "        dataTable['output_type'] = 'display_data';\n",
              "        await google.colab.output.renderOutput(dataTable, element);\n",
              "        const docLink = document.createElement('div');\n",
              "        docLink.innerHTML = docLinkHtml;\n",
              "        element.appendChild(docLink);\n",
              "      }\n",
              "    </script>\n",
              "  </div>\n",
              "\n",
              "\n",
              "    <div id=\"df-c3fc5ff6-7dcc-4e71-8291-ffa20f8d77cc\">\n",
              "      <button class=\"colab-df-quickchart\" onclick=\"quickchart('df-c3fc5ff6-7dcc-4e71-8291-ffa20f8d77cc')\"\n",
              "                title=\"Suggest charts\"\n",
              "                style=\"display:none;\">\n",
              "\n",
              "<svg xmlns=\"http://www.w3.org/2000/svg\" height=\"24px\"viewBox=\"0 0 24 24\"\n",
              "     width=\"24px\">\n",
              "    <g>\n",
              "        <path d=\"M19 3H5c-1.1 0-2 .9-2 2v14c0 1.1.9 2 2 2h14c1.1 0 2-.9 2-2V5c0-1.1-.9-2-2-2zM9 17H7v-7h2v7zm4 0h-2V7h2v10zm4 0h-2v-4h2v4z\"/>\n",
              "    </g>\n",
              "</svg>\n",
              "      </button>\n",
              "\n",
              "<style>\n",
              "  .colab-df-quickchart {\n",
              "      --bg-color: #E8F0FE;\n",
              "      --fill-color: #1967D2;\n",
              "      --hover-bg-color: #E2EBFA;\n",
              "      --hover-fill-color: #174EA6;\n",
              "      --disabled-fill-color: #AAA;\n",
              "      --disabled-bg-color: #DDD;\n",
              "  }\n",
              "\n",
              "  [theme=dark] .colab-df-quickchart {\n",
              "      --bg-color: #3B4455;\n",
              "      --fill-color: #D2E3FC;\n",
              "      --hover-bg-color: #434B5C;\n",
              "      --hover-fill-color: #FFFFFF;\n",
              "      --disabled-bg-color: #3B4455;\n",
              "      --disabled-fill-color: #666;\n",
              "  }\n",
              "\n",
              "  .colab-df-quickchart {\n",
              "    background-color: var(--bg-color);\n",
              "    border: none;\n",
              "    border-radius: 50%;\n",
              "    cursor: pointer;\n",
              "    display: none;\n",
              "    fill: var(--fill-color);\n",
              "    height: 32px;\n",
              "    padding: 0;\n",
              "    width: 32px;\n",
              "  }\n",
              "\n",
              "  .colab-df-quickchart:hover {\n",
              "    background-color: var(--hover-bg-color);\n",
              "    box-shadow: 0 1px 2px rgba(60, 64, 67, 0.3), 0 1px 3px 1px rgba(60, 64, 67, 0.15);\n",
              "    fill: var(--button-hover-fill-color);\n",
              "  }\n",
              "\n",
              "  .colab-df-quickchart-complete:disabled,\n",
              "  .colab-df-quickchart-complete:disabled:hover {\n",
              "    background-color: var(--disabled-bg-color);\n",
              "    fill: var(--disabled-fill-color);\n",
              "    box-shadow: none;\n",
              "  }\n",
              "\n",
              "  .colab-df-spinner {\n",
              "    border: 2px solid var(--fill-color);\n",
              "    border-color: transparent;\n",
              "    border-bottom-color: var(--fill-color);\n",
              "    animation:\n",
              "      spin 1s steps(1) infinite;\n",
              "  }\n",
              "\n",
              "  @keyframes spin {\n",
              "    0% {\n",
              "      border-color: transparent;\n",
              "      border-bottom-color: var(--fill-color);\n",
              "      border-left-color: var(--fill-color);\n",
              "    }\n",
              "    20% {\n",
              "      border-color: transparent;\n",
              "      border-left-color: var(--fill-color);\n",
              "      border-top-color: var(--fill-color);\n",
              "    }\n",
              "    30% {\n",
              "      border-color: transparent;\n",
              "      border-left-color: var(--fill-color);\n",
              "      border-top-color: var(--fill-color);\n",
              "      border-right-color: var(--fill-color);\n",
              "    }\n",
              "    40% {\n",
              "      border-color: transparent;\n",
              "      border-right-color: var(--fill-color);\n",
              "      border-top-color: var(--fill-color);\n",
              "    }\n",
              "    60% {\n",
              "      border-color: transparent;\n",
              "      border-right-color: var(--fill-color);\n",
              "    }\n",
              "    80% {\n",
              "      border-color: transparent;\n",
              "      border-right-color: var(--fill-color);\n",
              "      border-bottom-color: var(--fill-color);\n",
              "    }\n",
              "    90% {\n",
              "      border-color: transparent;\n",
              "      border-bottom-color: var(--fill-color);\n",
              "    }\n",
              "  }\n",
              "</style>\n",
              "\n",
              "      <script>\n",
              "        async function quickchart(key) {\n",
              "          const quickchartButtonEl =\n",
              "            document.querySelector('#' + key + ' button');\n",
              "          quickchartButtonEl.disabled = true;  // To prevent multiple clicks.\n",
              "          quickchartButtonEl.classList.add('colab-df-spinner');\n",
              "          try {\n",
              "            const charts = await google.colab.kernel.invokeFunction(\n",
              "                'suggestCharts', [key], {});\n",
              "          } catch (error) {\n",
              "            console.error('Error during call to suggestCharts:', error);\n",
              "          }\n",
              "          quickchartButtonEl.classList.remove('colab-df-spinner');\n",
              "          quickchartButtonEl.classList.add('colab-df-quickchart-complete');\n",
              "        }\n",
              "        (() => {\n",
              "          let quickchartButtonEl =\n",
              "            document.querySelector('#df-c3fc5ff6-7dcc-4e71-8291-ffa20f8d77cc button');\n",
              "          quickchartButtonEl.style.display =\n",
              "            google.colab.kernel.accessAllowed ? 'block' : 'none';\n",
              "        })();\n",
              "      </script>\n",
              "    </div>\n",
              "\n",
              "    </div>\n",
              "  </div>\n"
            ],
            "application/vnd.google.colaboratory.intrinsic+json": {
              "type": "dataframe",
              "variable_name": "df_events",
              "summary": "{\n  \"name\": \"df_events\",\n  \"rows\": 1510,\n  \"fields\": [\n    {\n      \"column\": \"event_id\",\n      \"properties\": {\n        \"dtype\": \"string\",\n        \"num_unique_values\": 1500,\n        \"samples\": [\n          \"0894b7\",\n          \"ae288b\",\n          \"7cf0d8\"\n        ],\n        \"semantic_type\": \"\",\n        \"description\": \"\"\n      }\n    },\n    {\n      \"column\": \"store_id\",\n      \"properties\": {\n        \"dtype\": \"category\",\n        \"num_unique_values\": 50,\n        \"samples\": [\n          \"STBLR-8\",\n          \"STCHE-7\",\n          \"STHYD-6\"\n        ],\n        \"semantic_type\": \"\",\n        \"description\": \"\"\n      }\n    },\n    {\n      \"column\": \"campaign_id\",\n      \"properties\": {\n        \"dtype\": \"category\",\n        \"num_unique_values\": 2,\n        \"samples\": [\n          \"CAMP_SAN_01\",\n          \"CAMP_DIW_01\"\n        ],\n        \"semantic_type\": \"\",\n        \"description\": \"\"\n      }\n    },\n    {\n      \"column\": \"product_code\",\n      \"properties\": {\n        \"dtype\": \"category\",\n        \"num_unique_values\": 15,\n        \"samples\": [\n          \"P10\",\n          \"P11\"\n        ],\n        \"semantic_type\": \"\",\n        \"description\": \"\"\n      }\n    },\n    {\n      \"column\": \"base_price(before_promo)\",\n      \"properties\": {\n        \"dtype\": \"number\",\n        \"std\": 742,\n        \"min\": 50,\n        \"max\": 3000,\n        \"num_unique_values\": 19,\n        \"samples\": [\n          290,\n          1020\n        ],\n        \"semantic_type\": \"\",\n        \"description\": \"\"\n      }\n    },\n    {\n      \"column\": \"quantity_sold(before_promo)\",\n      \"properties\": {\n        \"dtype\": \"number\",\n        \"std\": 131.65321175251216,\n        \"min\": 10.0,\n        \"max\": 642.0,\n        \"num_unique_values\": 329,\n        \"samples\": [\n          361.0,\n          196.0\n        ],\n        \"semantic_type\": \"\",\n        \"description\": \"\"\n      }\n    },\n    {\n      \"column\": \"promo_type\",\n      \"properties\": {\n        \"dtype\": \"category\",\n        \"num_unique_values\": 5,\n        \"samples\": [\n          \"BOGOF\",\n          \"50% OFF\"\n        ],\n        \"semantic_type\": \"\",\n        \"description\": \"\"\n      }\n    },\n    {\n      \"column\": \"base_price(after_promo)\",\n      \"properties\": {\n        \"dtype\": \"number\",\n        \"std\": 601,\n        \"min\": 31,\n        \"max\": 2500,\n        \"num_unique_values\": 19,\n        \"samples\": [\n          217,\n          510\n        ],\n        \"semantic_type\": \"\",\n        \"description\": \"\"\n      }\n    },\n    {\n      \"column\": \"quantity_sold(after_promo)\",\n      \"properties\": {\n        \"dtype\": \"number\",\n        \"std\": 363,\n        \"min\": 9,\n        \"max\": 2067,\n        \"num_unique_values\": 598,\n        \"samples\": [\n          937,\n          119\n        ],\n        \"semantic_type\": \"\",\n        \"description\": \"\"\n      }\n    }\n  ]\n}"
            }
          },
          "metadata": {},
          "execution_count": 122
        }
      ]
    },
    {
      "cell_type": "code",
      "source": [
        "# prompt: # prompt: . The operations team wants to ensure the integrity of the events data by removing\n",
        "# # duplicates. Check for and remove duplicate rows in the events dataframe based\n",
        "# # on store_id, campaign_id, and product_code. How many duplicate rows were\n",
        "# # removed?\n",
        "\n",
        "# Count initial number of rows\n",
        "initial_rows = df_events.shape[0]\n",
        "\n",
        "# Remove duplicate rows based on specified columns\n",
        "df_events_no_duplicates = df_events.drop_duplicates(subset=['store_id', 'campaign_id', 'product_code'])\n",
        "\n",
        "# Count number of rows after removing duplicates\n",
        "rows_after_removing_duplicates = df_events_no_duplicates.shape[0]\n",
        "\n",
        "# Calculate the number of duplicate rows removed\n",
        "duplicate_rows_removed = initial_rows - rows_after_removing_duplicates\n",
        "\n",
        "print(f\"Number of duplicate rows removed: {duplicate_rows_removed}\")\n",
        "\n",
        "# Update the original dataframe (optional, depending on whether you want to keep the original)\n",
        "df_events = df_events_no_duplicates"
      ],
      "metadata": {
        "colab": {
          "base_uri": "https://localhost:8080/"
        },
        "id": "HoQM8y0T9KOL",
        "outputId": "12b3add1-f74f-41d6-ac0d-c4d774c46047"
      },
      "execution_count": 123,
      "outputs": [
        {
          "output_type": "stream",
          "name": "stdout",
          "text": [
            "Number of duplicate rows removed: 10\n"
          ]
        }
      ]
    },
    {
      "cell_type": "code",
      "source": [
        "# prompt: How many cities have more than 5 stores?\n",
        "\n",
        "# Group by city and count the number of stores\n",
        "city_store_counts = df_stores.groupby('city')['store_id'].count()\n",
        "\n",
        "# Filter for cities with more than 5 stores\n",
        "cities_with_more_than_5_stores = city_store_counts[city_store_counts > 5]\n",
        "\n",
        "# Count the number of such cities\n",
        "num_cities = len(cities_with_more_than_5_stores)\n",
        "\n",
        "print(f\"Number of cities with more than 5 stores: {num_cities}\")"
      ],
      "metadata": {
        "colab": {
          "base_uri": "https://localhost:8080/"
        },
        "id": "h0yqYBS19out",
        "outputId": "429f955b-2aa6-4a3f-f3a6-9c8a959d7fec"
      },
      "execution_count": 124,
      "outputs": [
        {
          "output_type": "stream",
          "name": "stdout",
          "text": [
            "Number of cities with more than 5 stores: 3\n"
          ]
        }
      ]
    },
    {
      "cell_type": "code",
      "source": [
        "# prompt: The sales team has identified missing values in the quantity_sold(before_promo)\n",
        "# data. Estimate these values using the median quantity sold before the promotion.\n",
        "# How many missing values were filled, and what is the median used for\n",
        "# imputation?\n",
        "\n",
        "# Identify rows with missing quantity_sold(before_promo)\n",
        "missing_before_promo = df_events['quantity_sold(before_promo)'].isnull()\n",
        "num_missing_before_imputation = missing_before_promo.sum()\n",
        "\n",
        "# Calculate the median of quantity_sold(before_promo) excluding missing values\n",
        "median_before_promo = df_events['quantity_sold(before_promo)'].median()\n",
        "\n",
        "# Impute missing values with the median\n",
        "df_events['quantity_sold(before_promo)'] = df_events['quantity_sold(before_promo)'].fillna(median_before_promo)\n",
        "\n",
        "# Count the number of missing values filled\n",
        "num_missing_after_imputation = df_events['quantity_sold(before_promo)'].isnull().sum()\n",
        "num_filled = num_missing_before_imputation - num_missing_after_imputation\n",
        "\n",
        "print(f\"Number of missing values filled: {num_filled}\")\n",
        "print(f\"Median used for imputation: {median_before_promo}\")\n"
      ],
      "metadata": {
        "colab": {
          "base_uri": "https://localhost:8080/"
        },
        "id": "ydickARd960E",
        "outputId": "eda37012-18be-4fa8-a1b1-0524c4443ba6"
      },
      "execution_count": 125,
      "outputs": [
        {
          "output_type": "stream",
          "name": "stdout",
          "text": [
            "Number of missing values filled: 20\n",
            "Median used for imputation: 78.0\n"
          ]
        }
      ]
    },
    {
      "cell_type": "code",
      "source": [
        "# prompt: 4. Identify the product category with the lowest base price before the promotion.\n",
        "\n",
        "import pandas as pd\n",
        "\n",
        "# Print the columns of df_prod to verify the base price column name\n",
        "print(\"Columns in df_prod:\", df_prod.columns)\n",
        "\n",
        "# Merge df_prod with df_events on product_code\n",
        "merged_df = pd.merge(df_events, df_prod, on='product_code')\n",
        "\n",
        "# Group by product category and calculate the average base price before promotion\n",
        "# Assuming the column name identified from printing df_prod.columns is correct\n",
        "# Replace 'base_price' below with the actual column name if it's different\n",
        "avg_base_price_by_category = merged_df.groupby('category')['base_price(before_promo)'].mean()\n",
        "\n",
        "# Find the product category with the lowest average base price\n",
        "lowest_price_category = avg_base_price_by_category.idxmin()\n",
        "lowest_price_value = avg_base_price_by_category.min()\n",
        "\n",
        "print(f\"Product category with the lowest base price before the promotion: {lowest_price_category}\")\n",
        "print(f\"Lowest base price: {lowest_price_value}\")"
      ],
      "metadata": {
        "colab": {
          "base_uri": "https://localhost:8080/"
        },
        "id": "Y05RxUMz-SJ6",
        "outputId": "bb26163d-492a-492f-b0ef-dd761271f5bc"
      },
      "execution_count": 126,
      "outputs": [
        {
          "output_type": "stream",
          "name": "stdout",
          "text": [
            "Columns in df_prod: Index(['product_code', 'product_name', 'category'], dtype='object')\n",
            "Product category with the lowest base price before the promotion: Personal Care\n",
            "Lowest base price: 102.375\n"
          ]
        }
      ]
    },
    {
      "cell_type": "code",
      "source": [
        "# prompt:  What is the total quantity sold after the promotion for the BOGOF promo type\n",
        "# during the Diwali campaign?\n",
        "\n",
        "import pandas as pd\n",
        "# Merge df_events with df_camp on campaign_id\n",
        "merged_events_campaign = pd.merge(df_events, df_camp, on='campaign_id')\n",
        "\n",
        "# Filter for the 'Diwali' campaign and 'BOGOF' promo type\n",
        "diwali_bogof_sales = merged_events_campaign[\n",
        "    (merged_events_campaign['campaign_name'] == 'Diwali') &\n",
        "    (merged_events_campaign['promo_type'] == 'BOGOF')\n",
        "]\n",
        "\n",
        "# Calculate the total quantity sold after the promotion for the filtered data\n",
        "total_quantity_sold_after_promo = diwali_bogof_sales['quantity_sold(after_promo)'].sum()\n",
        "\n",
        "print(f\"Total quantity sold after the promotion for BOGOF promo during Diwali campaign: {total_quantity_sold_after_promo}\")\n"
      ],
      "metadata": {
        "colab": {
          "base_uri": "https://localhost:8080/"
        },
        "id": "1QT5ZqbT_2Mc",
        "outputId": "f0ade72e-8248-4267-b1a1-d1911d8dfa7d"
      },
      "execution_count": 127,
      "outputs": [
        {
          "output_type": "stream",
          "name": "stdout",
          "text": [
            "Total quantity sold after the promotion for BOGOF promo during Diwali campaign: 34461\n"
          ]
        }
      ]
    },
    {
      "cell_type": "code",
      "source": [
        "# prompt: . Which store recorded the highest quantity sold after the promotion during the\n",
        "# Diwali campaign?\n",
        "\n",
        "import pandas as pd\n",
        "# Merge df_events with df_camp and df_stores on their respective IDs\n",
        "merged_df_full = pd.merge(df_events, df_camp, on='campaign_id')\n",
        "merged_df_full = pd.merge(merged_df_full, df_stores, on='store_id')\n",
        "\n",
        "# Filter for the 'Diwali' campaign\n",
        "diwali_sales = merged_df_full[merged_df_full['campaign_name'] == 'Diwali']\n",
        "\n",
        "# Group by store and calculate the sum of quantity sold after the promotion\n",
        "store_diwali_sales = diwali_sales.groupby('store_id')['quantity_sold(after_promo)'].sum()\n",
        "\n",
        "# Find the store with the highest total quantity sold after the promotion\n",
        "highest_selling_store_id = store_diwali_sales.idxmax()\n",
        "highest_selling_quantity = store_diwali_sales.max()\n",
        "\n",
        "# Get the store name for the highest selling store\n",
        "highest_selling_store_name = df_stores[df_stores['store_id'] == highest_selling_store_id]['store_id'].iloc[0]\n",
        "\n",
        "print(f\"The store with the highest quantity sold after the promotion during the Diwali campaign is: {highest_selling_store_name} (Store ID: {highest_selling_store_id})\")\n",
        "print(f\"Quantity sold after promotion: {highest_selling_quantity}\")"
      ],
      "metadata": {
        "colab": {
          "base_uri": "https://localhost:8080/"
        },
        "id": "Ik0BtyPkAHjy",
        "outputId": "6cf181cd-1644-4134-a844-79ef475a4a21"
      },
      "execution_count": 128,
      "outputs": [
        {
          "output_type": "stream",
          "name": "stdout",
          "text": [
            "The store with the highest quantity sold after the promotion during the Diwali campaign is: STCHE-4 (Store ID: STCHE-4)\n",
            "Quantity sold after promotion: 5013\n"
          ]
        }
      ]
    },
    {
      "cell_type": "code",
      "source": [
        "# prompt: . Understand which campaigns had the most successful outcomes. Compare the\n",
        "# total quantities sold before and after the promotions for the Sankranti and Diwali\n",
        "# campaigns. Which campaign saw a greater increase in sales?\n",
        "\n",
        "# Filter data for Sankranti and Diwali campaigns\n",
        "sankranti_diwali_df = merged_events_campaign[\n",
        "    merged_events_campaign['campaign_name'].isin(['Sankranti', 'Diwali'])\n",
        "]\n",
        "\n",
        "# Calculate total quantity sold before and after promotion for each campaign\n",
        "campaign_sales_summary = sankranti_diwali_df.groupby('campaign_name').agg(\n",
        "    total_quantity_before_promo=('quantity_sold(before_promo)', 'sum'),\n",
        "    total_quantity_after_promo=('quantity_sold(after_promo)', 'sum')\n",
        ").reset_index()\n",
        "\n",
        "# Calculate the increase in sales for each campaign\n",
        "campaign_sales_summary['sales_increase'] = campaign_sales_summary['total_quantity_after_promo'] - campaign_sales_summary['total_quantity_before_promo']\n",
        "\n",
        "print(\"Sales Summary for Sankranti and Diwali Campaigns:\")\n",
        "print(campaign_sales_summary)\n",
        "\n",
        "# Determine which campaign saw a greater increase in sales\n",
        "greater_increase_campaign = campaign_sales_summary.loc[campaign_sales_summary['sales_increase'].idxmax()]\n",
        "\n",
        "print(f\"\\nThe campaign with a greater increase in sales was: {greater_increase_campaign['campaign_name']}\")\n",
        "print(f\"Sales Increase: {greater_increase_campaign['sales_increase']}\")"
      ],
      "metadata": {
        "colab": {
          "base_uri": "https://localhost:8080/"
        },
        "id": "tH-SgVJWA1mN",
        "outputId": "94320ca0-43b9-4b31-eac5-607f4381a069"
      },
      "execution_count": 129,
      "outputs": [
        {
          "output_type": "stream",
          "name": "stdout",
          "text": [
            "Sales Summary for Sankranti and Diwali Campaigns:\n",
            "  campaign_name  total_quantity_before_promo  total_quantity_after_promo  \\\n",
            "0        Diwali                     109756.0                      183404   \n",
            "1     Sankranti                      97894.0                      252069   \n",
            "\n",
            "   sales_increase  \n",
            "0         73648.0  \n",
            "1        154175.0  \n",
            "\n",
            "The campaign with a greater increase in sales was: Sankranti\n",
            "Sales Increase: 154175.0\n"
          ]
        }
      ]
    },
    {
      "cell_type": "code",
      "source": [
        "# Client Request 8: Highest IR% Product (Sankranti)\n",
        "# --------------------------\n",
        "# Step 1: Merge events and campaigns data\n",
        "merged_camp = pd.merge(df_events, df_camp, on='campaign_id')\n",
        "\n",
        "# Step 2: Filter for Sankranti campaign\n",
        "sankranti = merged_camp[merged_camp['campaign_name'] == 'Sankranti']\n",
        "\n",
        "# Step 3: Merge with product data\n",
        "merged_sankranti = pd.merge(sankranti, df_prod, on='product_code')\n",
        "\n",
        "# Step 4: Define discount logic\n",
        "discount_map = {\n",
        "    'BOGOF': 0.5,\n",
        "    '5% OFF': 0.05,\n",
        "    '10% OFF': 0.10,\n",
        "    '25% OFF': 0.25,\n",
        "    '500 Cashback': lambda x: max(0, x - 500)\n",
        "}\n",
        "\n",
        "def calculate_revenue_after(row):\n",
        "    promo = row['promo_type']\n",
        "    base_price = row['base_price(before_promo)']\n",
        "    qty = row['quantity_sold(after_promo)']\n",
        "\n",
        "    if promo == '500 Cashback':\n",
        "        return (base_price - 500) * qty\n",
        "    elif promo in discount_map:\n",
        "        return base_price * (1 - discount_map[promo]) * qty\n",
        "    else:\n",
        "        return base_price * qty\n",
        "\n",
        "# Step 5: Calculate revenues\n",
        "merged_sankranti['revenue_before'] = merged_sankranti['quantity_sold(before_promo)'] * merged_sankranti['base_price(before_promo)']\n",
        "merged_sankranti['revenue_after'] = merged_sankranti.apply(calculate_revenue_after, axis=1)\n",
        "\n",
        "# Step 6: Calculate IR%\n",
        "product_ir = merged_sankranti.groupby(['product_code', 'product_name']).agg(\n",
        "    total_before=('revenue_before', 'sum'),\n",
        "    total_after=('revenue_after', 'sum')\n",
        ")\n",
        "product_ir['IR%'] = ((product_ir['total_after'] - product_ir['total_before']) / product_ir['total_before']) * 100\n",
        "\n",
        "# Step 7: Find top product\n",
        "top_product = product_ir['IR%'].idxmax()\n",
        "top_ir_percentage = product_ir.loc[top_product, 'IR%']\n",
        "\n",
        "print(f\"8. Product with highest IR%: {top_product[1]} ({top_product[0]}) - IR%: {top_ir_percentage:.2f}%\")"
      ],
      "metadata": {
        "colab": {
          "base_uri": "https://localhost:8080/"
        },
        "id": "DVc5GUdsNkhV",
        "outputId": "aba4d791-bd5e-4d66-f15d-afb36f2676af"
      },
      "execution_count": 130,
      "outputs": [
        {
          "output_type": "stream",
          "name": "stdout",
          "text": [
            "8. Product with highest IR%: Atliq_Suflower_Oil (1L) (P03) - IR%: 91.83%\n"
          ]
        }
      ]
    },
    {
      "cell_type": "code",
      "source": [
        "import matplotlib.pyplot as plt\n",
        "import seaborn as sns\n",
        "\n",
        "# Sort products by IR% and select top 10 for visualization\n",
        "product_ir_sorted = product_ir.sort_values('IR%', ascending=False).head(10).reset_index()\n",
        "\n",
        "# Customize bar colors\n",
        "colors = ['#1f77b4' if x != top_product[1] else '#ff7f0e' for x in product_ir_sorted['product_name']]\n",
        "\n",
        "# Plot\n",
        "plt.figure(figsize=(12, 6))\n",
        "sns.barplot(\n",
        "    x='product_name',\n",
        "    y='IR%',\n",
        "    data=product_ir_sorted,\n",
        "    palette=colors,\n",
        "    edgecolor='black'\n",
        ")\n",
        "\n",
        "# Annotate values\n",
        "for index, value in enumerate(product_ir_sorted['IR%']):\n",
        "    plt.text(\n",
        "        index,\n",
        "        value + 1 if value > 0 else value - 5,\n",
        "        f'{value:.1f}%',\n",
        "        ha='center',\n",
        "        fontsize=10\n",
        "    )\n",
        "\n",
        "# Customize plot\n",
        "plt.title('Top Products by Incremental Revenue % (Sankranti Campaign)', fontsize=14, pad=20)\n",
        "plt.xlabel('Product Name', fontsize=12)\n",
        "plt.ylabel('IR%', fontsize=12)\n",
        "plt.xticks(rotation=45, ha='right')\n",
        "plt.axhline(0, color='gray', linestyle='--')\n",
        "plt.tight_layout()\n",
        "\n",
        "plt.show()"
      ],
      "metadata": {
        "colab": {
          "base_uri": "https://localhost:8080/",
          "height": 697
        },
        "id": "E8tz8QS4eiHx",
        "outputId": "5c9d82da-500b-41e5-a0b5-bfde3108a47d"
      },
      "execution_count": 131,
      "outputs": [
        {
          "output_type": "stream",
          "name": "stderr",
          "text": [
            "<ipython-input-131-229cd511ae2a>:12: FutureWarning: \n",
            "\n",
            "Passing `palette` without assigning `hue` is deprecated and will be removed in v0.14.0. Assign the `x` variable to `hue` and set `legend=False` for the same effect.\n",
            "\n",
            "  sns.barplot(\n"
          ]
        },
        {
          "output_type": "display_data",
          "data": {
            "text/plain": [
              "<Figure size 1200x600 with 1 Axes>"
            ],
            "image/png": "[encoded data removed]"
          },
          "metadata": {}
        }
      ]
    },
    {
      "cell_type": "code",
      "source": [
        "# prompt: . Which store in Visakhapatnam recorded the lowest Incremental Sold Units\n",
        "# Percentage (ISU%) during the Diwali campaign? What is the ISU% for that\n",
        "# store?\n",
        "\n",
        "import numpy as np\n",
        "# Filter data for the Diwali campaign and Visakhapatnam stores\n",
        "visakhapatnam_diwali_df = merged_df_full[\n",
        "    (merged_df_full['campaign_name'] == 'Diwali') &\n",
        "    (merged_df_full['city'] == 'Visakhapatnam')\n",
        "].copy()\n",
        "\n",
        "# Calculate Incremental Sold Units (ISU)\n",
        "visakhapatnam_diwali_df['incremental_sold_units'] = visakhapatnam_diwali_df['quantity_sold(after_promo)'] - visakhapatnam_diwali_df['quantity_sold(before_promo)']\n",
        "\n",
        "# Group by store and calculate total ISU and total quantity sold before promo\n",
        "store_visakhapatnam_diwali_summary = visakhapatnam_diwali_df.groupby('store_id').agg(\n",
        "    total_isu=('incremental_sold_units', 'sum'),\n",
        "    total_quantity_before_promo=('quantity_sold(before_promo)', 'sum')\n",
        ").reset_index()\n",
        "\n",
        "# Calculate Incremental Sold Units Percentage (ISU%)\n",
        "store_visakhapatnam_diwali_summary['isu_percentage'] = (store_visakhapatnam_diwali_summary['total_isu'] / store_visakhapatnam_diwali_summary['total_quantity_before_promo']) * 100\n",
        "store_visakhapatnam_diwali_summary.replace([np.inf, -np.inf], 0, inplace=True) # Handle division by zero\n",
        "\n",
        "# Find the store with the lowest ISU%\n",
        "lowest_isu_store = store_visakhapatnam_diwali_summary.loc[store_visakhapatnam_diwali_summary['isu_percentage'].idxmin()]\n",
        "\n",
        "# Get the store name for the lowest ISU% store\n",
        "lowest_isu_store_id = lowest_isu_store['store_id']\n",
        "lowest_isu_store_name = df_stores[df_stores['store_id'] == lowest_isu_store_id]['store_id'].iloc[0]\n",
        "lowest_isu_value = lowest_isu_store['isu_percentage']\n",
        "\n",
        "print(f\"The store in Visakhapatnam with the lowest Incremental Sold Units Percentage (ISU%) during the Diwali campaign is: {lowest_isu_store_name} (Store ID: {lowest_isu_store_id})\")\n",
        "print(f\"The ISU% for this store is: {lowest_isu_value:.2f}%\")"
      ],
      "metadata": {
        "id": "x8YxmgrKCtAm",
        "colab": {
          "base_uri": "https://localhost:8080/"
        },
        "outputId": "04f2e8c5-db5b-418d-97df-884a3a882fa0"
      },
      "execution_count": 132,
      "outputs": [
        {
          "output_type": "stream",
          "name": "stdout",
          "text": [
            "The store in Visakhapatnam with the lowest Incremental Sold Units Percentage (ISU%) during the Diwali campaign is: STVSK-3 (Store ID: STVSK-3)\n",
            "The ISU% for this store is: 49.21%\n"
          ]
        }
      ]
    },
    {
      "cell_type": "code",
      "source": [
        "# Filter for the 'Sankranti' campaign only\n",
        "sankranti_df = merged_df_full[merged_df_full['campaign_name'] == 'Sankranti'].copy()\n",
        "\n",
        "# Fill missing values with 0 to avoid computation errors\n",
        "sankranti_df[['base_price(before_promo)', 'base_price(after_promo)',\n",
        "              'quantity_sold(before_promo)', 'quantity_sold(after_promo)']] = \\\n",
        "    sankranti_df[['base_price(before_promo)', 'base_price(after_promo)',\n",
        "                  'quantity_sold(before_promo)', 'quantity_sold(after_promo)']].fillna(0)\n",
        "\n",
        "# Calculate revenue before and after promotion\n",
        "sankranti_df['revenue_before'] = sankranti_df['base_price(before_promo)'] * sankranti_df['quantity_sold(before_promo)']\n",
        "sankranti_df['revenue_after'] = sankranti_df['base_price(after_promo)'] * sankranti_df['quantity_sold(after_promo)']\n",
        "\n",
        "# Group by promo type and compute aggregated metrics\n",
        "promo_summary = sankranti_df.groupby('promo_type').agg({\n",
        "    'revenue_before': 'sum',\n",
        "    'revenue_after': 'sum',\n",
        "    'quantity_sold(before_promo)': 'sum',\n",
        "    'quantity_sold(after_promo)': 'sum'\n",
        "}).reset_index()\n",
        "\n",
        "# Compute IR% and ISU% safely\n",
        "promo_summary = promo_summary[(promo_summary['revenue_before'] > 0) & (promo_summary['quantity_sold(before_promo)'] > 0)].copy()\n",
        "promo_summary['IR%'] = ((promo_summary['revenue_after'] - promo_summary['revenue_before']) / promo_summary['revenue_before']) * 100\n",
        "promo_summary['ISU%'] = ((promo_summary['quantity_sold(after_promo)'] - promo_summary['quantity_sold(before_promo)']) / promo_summary['quantity_sold(before_promo)']) * 100\n",
        "\n",
        "# Filter promo types with both IR% and ISU% negative\n",
        "negative_impact_promos = promo_summary[(promo_summary['IR%'] < 0) & (promo_summary['ISU%'] < 0)]\n",
        "\n",
        "# Output result\n",
        "if not negative_impact_promos.empty:\n",
        "    for _, row in negative_impact_promos.iterrows():\n",
        "        print(f\"Promo Type with negative IR% and ISU%: {row['promo_type']}\")\n",
        "        print(f\"IR%: {row['IR%']:.2f}%\")\n",
        "        print(f\"ISU%: {row['ISU%']:.2f}%\\n\")\n",
        "else:\n",
        "    print(\"No promo type had both negative IR% and ISU% during the Sankranti campaign.\")\n"
      ],
      "metadata": {
        "colab": {
          "base_uri": "https://localhost:8080/"
        },
        "id": "ZbGyLPwatYvR",
        "outputId": "13029851-7780-4017-b128-ba15988835d9"
      },
      "execution_count": 138,
      "outputs": [
        {
          "output_type": "stream",
          "name": "stdout",
          "text": [
            "Promo Type with negative IR% and ISU%: 25% OFF\n",
            "IR%: -39.33%\n",
            "ISU%: -19.60%\n",
            "\n"
          ]
        }
      ]
    }
  ]
}